{
 "cells": [
  {
   "cell_type": "code",
   "execution_count": 39,
   "metadata": {},
   "outputs": [
    {
     "data": {
      "text/plain": [
       "GLMakie.Screen(...)"
      ]
     },
     "execution_count": 39,
     "metadata": {},
     "output_type": "execute_result"
    }
   ],
   "source": [
    "using GLMakie, LinearAlgebra\n",
    "\n",
    "include(\"boids.jl\")\n",
    "\n",
    "# TODO: Make boids not collided\n",
    "# TODO: Make border limits for boids\n",
    "# TODO: Update buttons, step and restart\n",
    "# TODO: Try to make inifite run/stop animation\n",
    "# TODO: Maybeee sliders for parameters?\n",
    "# TODO: Maybeeeeee try make .exe \n",
    "\n",
    "# Make boids\n",
    "width = height = 500;\n",
    "numBoids = 1000\n",
    "flock = [Boid(i, rand(1:width, 3), randn(3).*2, randn(3)) for i=1:numBoids]\n",
    "points = Observable([Point3f(boid.position) for boid in flock])\n",
    "\n",
    "# Parameters\n",
    "alignValue = 0.5# ls1[1].value\n",
    "separationValue = 1#ls2[1].value\n",
    "cohesionValue = 0.6 #ls3[1].value\n",
    "\n",
    "# Create figure\n",
    "fig = Figure()\n",
    "\n",
    "# create 3d axis\n",
    "ax = Axis3(fig[1, 1], aspect = (1, 1, 1),\n",
    "        title = \"3d scatter\")\n",
    "        ax.perspectiveness = 0\n",
    "\n",
    "# create button grid\n",
    "fig[2, 1] = buttongrid = GridLayout(tellwidth = false)\n",
    "\n",
    "# Set limits\n",
    "limits!(ax, -4*width, 4*width, -4*width, 4*width, -4*width, 4*width)\n",
    "\n",
    "labels = [\"Run\", \"Step\", \"Restart\"]\n",
    "button_count = 3\n",
    "\n",
    "# create buttons\n",
    "buttons = buttongrid[1, 1:button_count] = [\n",
    "    Button(fig,\n",
    "        label = l, height = 60, width = 250, textsize = 30\n",
    "    )\n",
    "    for l in labels\n",
    "]\n",
    "\n",
    "# run button\n",
    "on(buttons[1].clicks) do click\n",
    "    frames = 1:100\n",
    "    @async begin\n",
    "    for i = frames\n",
    "        # points[] += Point3f[(0., 0.01, 0.)]\n",
    "        for boid in flock\n",
    "            fly!(boid, flock, alignValue[], separationValue[], cohesionValue[])\n",
    "        end\n",
    "        \n",
    "        points[] = [Point3f(boid.position) for boid in flock]\n",
    "        sleep(0.001)\n",
    "    end\n",
    "    end\n",
    "    # record(fig, \"append_animation.mp4\", frames;\n",
    "    #         framerate = 30) do frame\n",
    "    #     points[] += Point3f[(0., 0.01, 0.)]\n",
    "    #     sleep(0.05)\n",
    "    # end\n",
    "end\n",
    "\n",
    "# step button - the same as run\n",
    "on(buttons[2].clicks) do click\n",
    "    points[] += Point3f[(0., 0.01, 0.)]\n",
    "end\n",
    "\n",
    "# reset button\n",
    "on(buttons[3].clicks) do click\n",
    "    points[] = Point3f[(0., 0., 0.)]\n",
    "end\n",
    "\n",
    "scatter!(ax, points, markersize=3000)\n",
    "\n",
    "display(fig)"
   ]
  },
  {
   "cell_type": "code",
   "execution_count": 33,
   "metadata": {},
   "outputs": [
    {
     "data": {
      "text/plain": [
       "3-element Vector{Boid}:\n",
       " Boid(1, [107, 360, 206], [2.5014485102271586, 2.0150410724922647, -4.118153796125154], [1.1927480365766638, -0.09590367589001327, 1.7905485028005907])\n",
       " Boid(2, [225, 166, 25], [1.5064636699647969, -2.242383980444681, 1.7722680474045103], [0.23979623347228043, 1.4012944128351748, 0.4468207769761274])\n",
       " Boid(3, [386, 373, 351], [-5.370779751133057, 0.6799396447659722, -0.365157237410028], [-1.5200979469290112, -0.7637868186641218, 1.5741213458308978])"
      ]
     },
     "execution_count": 33,
     "metadata": {},
     "output_type": "execute_result"
    }
   ],
   "source": [
    "flock = [Boid(i, rand(1:width, 3), randn(3).*2, randn(3)) for i=1:3]"
   ]
  },
  {
   "cell_type": "code",
   "execution_count": 34,
   "metadata": {},
   "outputs": [],
   "source": [
    "alignValue = 0.5# ls1[1].value\n",
    "separationValue = 1#ls2[1].value\n",
    "cohesionValue = 0.6 #ls3[1].value\n",
    "\n",
    "for boid in flock\n",
    "    fly!(boid, flock, alignValue[], separationValue[], cohesionValue[])\n",
    "end"
   ]
  },
  {
   "cell_type": "code",
   "execution_count": 35,
   "metadata": {},
   "outputs": [
    {
     "data": {
      "text/plain": [
       "3-element Vector{Boid}:\n",
       " Boid(1, [109.50144851022716, 362.01504107249224, 201.88184620387486], [3.098197618464578, 1.609515583788768, -1.9520837846981673], [0.0, -0.0, 0.0])\n",
       " Boid(2, [226.5064636699648, 163.75761601955531, 26.77226804740451], [1.7462599034370774, -0.841089567609506, 2.2190888243806377], [0.0, 0.0, 0.0])\n",
       " Boid(3, [380.62922024886694, 373.67993964476597, 350.63484276259], [-3.9395414629219276, -0.047935753991611485, 0.6911694621496325], [-0.0, -0.0, 0.0])"
      ]
     },
     "execution_count": 35,
     "metadata": {},
     "output_type": "execute_result"
    }
   ],
   "source": [
    "flock"
   ]
  }
 ],
 "metadata": {
  "kernelspec": {
   "display_name": "Julia 1.7.2",
   "language": "julia",
   "name": "julia-1.7"
  },
  "language_info": {
   "file_extension": ".jl",
   "mimetype": "application/julia",
   "name": "julia",
   "version": "1.7.2"
  },
  "orig_nbformat": 4
 },
 "nbformat": 4,
 "nbformat_minor": 2
}
